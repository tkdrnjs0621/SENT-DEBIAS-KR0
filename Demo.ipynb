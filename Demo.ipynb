{
 "cells": [
  {
   "cell_type": "code",
   "execution_count": 1,
   "metadata": {},
   "outputs": [],
   "source": [
    "import pickle\n",
    "import os\n",
    "import random\n",
    "from tqdm import tqdm, trange\n",
    "\n",
    "from sklearn.decomposition import PCA\n",
    "from sklearn.manifold import TSNE\n",
    "\n",
    "from utils.KeywordRepresentationGenerator import KeywordRepresentationGenerator\n",
    "from utils.BiasSubspaceGenerator import BiasSubspaceGenerator\n",
    "from utils.SentenceEncoder import SentenceEncoder\n",
    "from utils.parse_word_files import parse_word_files\n",
    "from utils.Visualize import Visualize"
   ]
  },
  {
   "cell_type": "markdown",
   "metadata": {},
   "source": [
    "# Settings"
   ]
  },
  {
   "cell_type": "code",
   "execution_count": 2,
   "metadata": {},
   "outputs": [],
   "source": [
    "s_LM = \"KOR_BERT\" # Determines the base Sentence Encoder to use\n",
    "\n",
    "s_PRINT_CRUCIAL = True # If selected, print crucial informations\n",
    "s_PRINT_DEBUG = True # If selected, print debug informations\n",
    "\n",
    "s_PRINT_TQDM_PER_FILE_BSG = True # If selected, print tqdm bars for loadData_WPS per file\n",
    "s_PRINT_TQDM_PER_SENTENCE_BSG = False # If selected, print tqdm bars for loadData_WPS per sentence\n",
    "\n",
    "s_PRINT_TQDM_PER_SENTENCE_PAIR_BSG = True # If selected, print tqdm bars for get_bias_subspace\n",
    "s_MAX_SENTENCE_LENGTH = 500 # Determines the maximum length of sentence (numbers of word) (currently only works for get_bias_subspace)\n",
    "\n",
    "s_PRINT_TQDM_PER_FILE_KRG = False # If selected, print tqdm bars for loadData_VSK per file\n",
    "s_PRINT_TQDM_PER_SENTENCE_KRG = True # If selected, print tqdm bars for loadData_VSK per sentence\n",
    "\n",
    "s_MAX_LENGTH_PER_FILE_BSG = 4 # Determines the max length(numbers) of sentence\n",
    "s_MAX_LENGTH_PER_KEYWORD_KRG = 200 # Determines the max length(numbers) of sentence\n",
    "\n",
    "s_FONTPATH = '/usr/share/fonts/opentype/noto/NotoSansCJK-Regular.ttc' # Determines the fontpath for visualization\n",
    "s_FONTSIZE = 9 # Determines the fontpath for visualization\n",
    "\n",
    "s_RANDOM=True # If selected, there will be random operation in needed place\n",
    "s_SAVE_LATENT_FILES = True  # If selected, latent files will be saved under /latent_files/"
   ]
  },
  {
   "cell_type": "markdown",
   "metadata": {},
   "source": [
    "# Loading Words"
   ]
  },
  {
   "cell_type": "code",
   "execution_count": 3,
   "metadata": {},
   "outputs": [
    {
     "name": "stderr",
     "output_type": "stream",
     "text": [
      "Some weights of the model checkpoint at kykim/bert-kor-base were not used when initializing BertModel: ['cls.predictions.transform.dense.bias', 'cls.seq_relationship.weight', 'cls.predictions.transform.LayerNorm.bias', 'cls.predictions.transform.dense.weight', 'cls.seq_relationship.bias', 'cls.predictions.decoder.weight', 'cls.predictions.bias', 'cls.predictions.transform.LayerNorm.weight', 'cls.predictions.decoder.bias']\n",
      "- This IS expected if you are initializing BertModel from the checkpoint of a model trained on another task or with another architecture (e.g. initializing a BertForSequenceClassification model from a BertForPreTraining model).\n",
      "- This IS NOT expected if you are initializing BertModel from the checkpoint of a model that you expect to be exactly identical (initializing a BertForSequenceClassification model from a BertForSequenceClassification model).\n"
     ]
    }
   ],
   "source": [
    "if(s_LM==\"KOR_BERT\"):\n",
    "    SE = SentenceEncoder('kykim/bert-kor-base')\n",
    "elif(s_LM==\"KR_BERT\"):\n",
    "    SE = SentenceEncoder('snunlp/KR-BERT-char16424')\n",
    "elif(s_LM==\"KLUE_BERT\"):\n",
    "    SE = SentenceEncoder(\"klue/bert-base\")\n",
    "else:\n",
    "    SE = SentenceEncoder(\"klue/bert-base\")"
   ]
  },
  {
   "cell_type": "code",
   "execution_count": 4,
   "metadata": {},
   "outputs": [
    {
     "name": "stdout",
     "output_type": "stream",
     "text": [
      "All word pairs are single token.\n",
      "\n",
      "['남자', '남자는', '남자가', '남자의', '여자', '여자는', '여자가', '여자의', '컴퓨터', '컴퓨터를', '컴퓨터가', '화장', '화장을', '화장이', '음악', '음악을', '음악이', '연구', '연구를', '연구가', '회사', '회사가', '회사에서', '회사를', '회사로', '가정', '가정의', '가정에서', '운동', '운동을', '운동은', '일', '일을', '일이', '직장', '축구', '꽃', '꽃은', '꽃이', '꽃을', '집', '요리', '담배', '담배를', '농구', '치마', '바지', '남자', '여자', '남자는', '여자는', '남자가', '여자가', '남자의', '여자의', '남성', '여성', '남성이', '여성이', '남성의', '여성의', '할아버지', '할머니', '아버지', '어머니', '아버지는', '어머니는', '아버지의', '어머니의', '아버지가', '어머니가', '아들', '딸', '아들은', '딸은', '아들의', '딸의', '아들이', '딸이', '그', '그녀', '그가', '그녀가', '그의', '그녀의', '그는', '그녀는']\n",
      "\n",
      "[('남자', '여자'), ('남자는', '여자는'), ('남자가', '여자가'), ('남자의', '여자의'), ('남성', '여성'), ('남성이', '여성이'), ('남성의', '여성의'), ('할아버지', '할머니'), ('아버지', '어머니'), ('아버지는', '어머니는'), ('아버지의', '어머니의'), ('아버지가', '어머니가'), ('아들', '딸'), ('아들은', '딸은'), ('아들의', '딸의'), ('아들이', '딸이'), ('그', '그녀'), ('그가', '그녀가'), ('그의', '그녀의'), ('그는', '그녀는')]\n",
      "\n",
      "{'남자': ['남자', '남자는', '남자가', '남자의'], '여자': ['여자', '여자는', '여자가', '여자의'], '컴퓨터': ['컴퓨터', '컴퓨터를', '컴퓨터가'], '화장': ['화장', '화장을', '화장이'], '음악': ['음악', '음악을', '음악이'], '연구': ['연구', '연구를', '연구가'], '회사': ['회사', '회사가', '회사에서', '회사를', '회사로'], '가정': ['가정', '가정의', '가정에서'], '운동': ['운동', '운동을', '운동은'], '일': ['일', '일을', '일이'], '직장': ['직장'], '축구': ['축구'], '꽃': ['꽃', '꽃은', '꽃이', '꽃을'], '집': ['집'], '요리': ['요리'], '담배': ['담배', '담배를'], '농구': ['농구'], '치마': ['치마'], '바지': ['바지']}\n"
     ]
    }
   ],
   "source": [
    "word_set = []\n",
    "word_pair_set = []\n",
    "v_keyword_set = {}\n",
    "\n",
    "word_set, word_pair_set,v_keyword_set = parse_word_files(SE,\"Texts/\"+s_LM+\"/\"+\"VisualizationKeywords.txt\", \"Texts/\"+s_LM+\"/\"+\"WordPairs.txt\",s_PRINT_CRUCIAL,s_PRINT_DEBUG)"
   ]
  },
  {
   "cell_type": "markdown",
   "metadata": {},
   "source": [
    "# Bias Subspace Generation"
   ]
  },
  {
   "cell_type": "code",
   "execution_count": 5,
   "metadata": {
    "tags": []
   },
   "outputs": [
    {
     "name": "stderr",
     "output_type": "stream",
     "text": [
      "loading files for Bias Subspace Generator: 100%|██████████| 20188/20188 [02:56<00:00, 114.44it/s]\n"
     ]
    }
   ],
   "source": [
    "BSG = BiasSubspaceGenerator(SE)\n",
    "\n",
    "dir1 = \"../DataSet_GBS/\" #directory of getting bias subspace\n",
    "# dir1 = \"../KrDataSet/EveryText/WrittenText/\"\n",
    "file_list = os.listdir(dir1)\n",
    "\n",
    "s = []\n",
    "for file in (tqdm(file_list,desc=\"loading files for Bias Subspace Generator\") if s_PRINT_TQDM_PER_FILE_BSG else file_list) :\n",
    "    if(file.endswith(\"pkl\")):\n",
    "        a=(BSG.loadData_WPS(dir1+file,word_pair_set,s_MAX_LENGTH_PER_FILE_BSG, s_PRINT_TQDM_PER_SENTENCE_BSG))\n",
    "        s+=a"
   ]
  },
  {
   "cell_type": "code",
   "execution_count": 6,
   "metadata": {},
   "outputs": [
    {
     "name": "stderr",
     "output_type": "stream",
     "text": [
      "getting bias vectors from sentence pairs: 100%|██████████| 8743/8743 [13:38<00:00, 10.68it/s]\n"
     ]
    }
   ],
   "source": [
    "vectors = BSG.get_bias_vectors(s,s_MAX_SENTENCE_LENGTH,s_PRINT_TQDM_PER_SENTENCE_PAIR_BSG)\n",
    "\n",
    "if(s_SAVE_LATENT_FILES):\n",
    "    with open('./latent_files/gbs_vectors_2d.pkl', 'wb') as f:\n",
    "        pickle.dump(vectors, f)"
   ]
  },
  {
   "cell_type": "code",
   "execution_count": 7,
   "metadata": {},
   "outputs": [
    {
     "name": "stdout",
     "output_type": "stream",
     "text": [
      "17486\n"
     ]
    }
   ],
   "source": [
    "print(len(vectors))"
   ]
  },
  {
   "cell_type": "code",
   "execution_count": 8,
   "metadata": {},
   "outputs": [],
   "source": [
    "pca = PCA(n_components=10)\n",
    "result = pca.fit(vectors)\n",
    "result = result.components_[:10]"
   ]
  },
  {
   "cell_type": "code",
   "execution_count": 9,
   "metadata": {},
   "outputs": [
    {
     "name": "stdout",
     "output_type": "stream",
     "text": [
      "[[ 0.02306186  0.01494975  0.03827432 ...  0.02274771 -0.01643931\n",
      "   0.01834079]\n",
      " [-0.03498824 -0.03338508  0.05252717 ... -0.01059337  0.03127378\n",
      "  -0.00845493]\n",
      " [-0.00636433  0.00406903  0.02646202 ... -0.01119496 -0.02979273\n",
      "   0.02741661]\n",
      " ...\n",
      " [-0.03137252 -0.00319741  0.02113699 ...  0.00125747  0.06683511\n",
      "  -0.05529405]\n",
      " [-0.01232479  0.04314235  0.01305327 ...  0.06568982 -0.05967814\n",
      "  -0.0558405 ]\n",
      " [-0.02529402 -0.02443349  0.02292751 ...  0.02280346 -0.02683126\n",
      "   0.00154524]]\n"
     ]
    }
   ],
   "source": [
    "print(result)\n",
    "SE.set_bias_subspace(result)\n",
    "\n",
    "with open( \"./latent_files/bias_subspace_d2_opt_10.pkl\", 'wb') as f:\n",
    "    pickle.dump(result, f)"
   ]
  },
  {
   "cell_type": "code",
   "execution_count": 10,
   "metadata": {},
   "outputs": [],
   "source": [
    "# with open( \"./latent_files/bias_subspace_d2_opt_10.pkl\", 'rb') as f:\n",
    "#     result = pickle.load(f)\n",
    "# SE.set_bias_subspace(result)"
   ]
  },
  {
   "cell_type": "markdown",
   "metadata": {
    "tags": []
   },
   "source": [
    "# Getting Keyword Representations"
   ]
  },
  {
   "cell_type": "code",
   "execution_count": 11,
   "metadata": {
    "tags": []
   },
   "outputs": [
    {
     "name": "stderr",
     "output_type": "stream",
     "text": [
      "100%|██████████| 198873/198873 [00:31<00:00, 6331.67it/s]\n",
      "100%|██████████| 1106790/1106790 [02:50<00:00, 6490.86it/s]\n",
      "100%|██████████| 3300370/3300370 [13:29<00:00, 4075.24it/s]\n"
     ]
    }
   ],
   "source": [
    "KRG = KeywordRepresentationGenerator(SE)\n",
    "dir2 = \"../DataSet_GKR/\" #directory of getting keyword representations\n",
    "\n",
    "total = {}\n",
    "file_list2 = os.listdir(dir2)\n",
    "for file in (tqdm(file_list2) if s_PRINT_TQDM_PER_FILE_KRG else(file_list2)):\n",
    "    if(file.endswith('.pkl')):\n",
    "        total.update(KRG.loadData_VSK(dir2+file,v_keyword_set,s_PRINT_TQDM_PER_SENTENCE_KRG))"
   ]
  },
  {
   "cell_type": "code",
   "execution_count": 12,
   "metadata": {},
   "outputs": [
    {
     "name": "stdout",
     "output_type": "stream",
     "text": [
      "남자 6141\n",
      "여자 6724\n",
      "컴퓨터 3050\n",
      "화장 534\n",
      "음악 10505\n",
      "연구 41323\n",
      "회사 14356\n",
      "가정 11088\n",
      "운동 8895\n",
      "일 46920\n",
      "직장 4339\n",
      "축구 6894\n",
      "꽃 6611\n",
      "집 13014\n",
      "요리 2788\n",
      "담배 2063\n",
      "농구 1059\n",
      "치마 151\n",
      "바지 593\n"
     ]
    }
   ],
   "source": [
    "for i in total:\n",
    "    print(i,len(total[i]))\n",
    "\n",
    "with open( \"./latent_files/total.pkl\", 'wb') as f:\n",
    "    pickle.dump(total, f)"
   ]
  },
  {
   "cell_type": "code",
   "execution_count": 13,
   "metadata": {},
   "outputs": [],
   "source": [
    "# KRG = KeywordRepresentationGenerator(SE)\n",
    "# with open( \"./latent_files/total.pkl\", 'rb') as f:\n",
    "#     total = pickle.load(f)"
   ]
  },
  {
   "cell_type": "code",
   "execution_count": 14,
   "metadata": {},
   "outputs": [
    {
     "name": "stderr",
     "output_type": "stream",
     "text": [
      "modeling 남자: 100%|██████████| 200/200 [00:24<00:00,  8.23it/s]\n",
      "modeling 여자: 100%|██████████| 200/200 [00:23<00:00,  8.41it/s]\n",
      "modeling 컴퓨터: 100%|██████████| 200/200 [00:25<00:00,  7.90it/s]\n",
      "modeling 화장: 100%|██████████| 200/200 [00:23<00:00,  8.47it/s]\n",
      "modeling 음악: 100%|██████████| 200/200 [00:25<00:00,  7.90it/s]\n",
      "modeling 연구: 100%|██████████| 200/200 [00:25<00:00,  8.00it/s]\n",
      "modeling 회사: 100%|██████████| 200/200 [00:23<00:00,  8.54it/s]\n",
      "modeling 가정: 100%|██████████| 200/200 [00:25<00:00,  7.88it/s]\n",
      "modeling 운동: 100%|██████████| 200/200 [00:25<00:00,  7.85it/s]\n",
      "modeling 일: 100%|██████████| 200/200 [00:24<00:00,  8.23it/s]\n",
      "modeling 직장: 100%|██████████| 200/200 [00:25<00:00,  7.94it/s]\n",
      "modeling 축구: 100%|██████████| 200/200 [00:25<00:00,  7.73it/s]\n",
      "modeling 꽃: 100%|██████████| 200/200 [00:24<00:00,  8.01it/s]\n",
      "modeling 집: 100%|██████████| 200/200 [00:24<00:00,  8.21it/s]\n",
      "modeling 요리: 100%|██████████| 200/200 [00:23<00:00,  8.68it/s]\n",
      "modeling 담배: 100%|██████████| 200/200 [00:24<00:00,  8.18it/s]\n",
      "modeling 농구: 100%|██████████| 200/200 [00:24<00:00,  8.02it/s]\n",
      "modeling 치마:  76%|███████▌  | 151/200 [00:18<00:06,  8.14it/s]\n",
      "modeling 바지: 100%|██████████| 200/200 [00:24<00:00,  8.30it/s]\n"
     ]
    }
   ],
   "source": [
    "keyword_reps, debiased_keyword_reps = KRG.get_both_keyword_reps(total, maxl=s_MAX_LENGTH_PER_KEYWORD_KRG,do_random=s_RANDOM)    \n",
    "\n",
    "if(s_SAVE_LATENT_FILES):\n",
    "    with open('./latent_files/KeywordReps_not_normed.pkl', 'wb') as f:\n",
    "        pickle.dump(keyword_reps, f)\n",
    "    with open('./latent_files/Debiased_KeywordReps_not_normed.pkl', 'wb') as f:\n",
    "        pickle.dump(debiased_keyword_reps, f)"
   ]
  },
  {
   "cell_type": "code",
   "execution_count": 15,
   "metadata": {},
   "outputs": [],
   "source": [
    "# KRG = KeywordRepresentationGenerator(SE)\n",
    "# with open('./latent_files/KeywordReps_not_normed.pkl', 'rb') as f:\n",
    "#     keyword_reps = pickle.load(f)\n",
    "# with open('./latent_files/Debiased_KeywordReps_not_normed.pkl', 'rb') as f:\n",
    "#     debiased_keyword_reps = pickle.load(f)\n",
    "    \n",
    "# for i in keyword_reps:\n",
    "#     print(i,len(keyword_reps[i]))\n",
    "# for i in debiased_keyword_reps:\n",
    "#     print(i,len(debiased_keyword_reps[i]))"
   ]
  },
  {
   "cell_type": "code",
   "execution_count": 16,
   "metadata": {},
   "outputs": [
    {
     "name": "stdout",
     "output_type": "stream",
     "text": [
      "[200, 200, 200, 200, 200, 200, 200, 200, 200, 200, 200, 200, 200, 200, 200, 200, 200, 151, 200]\n",
      "tSNE complete\n",
      "[200, 200, 200, 200, 200, 200, 200, 200, 200, 200, 200, 200, 200, 200, 200, 200, 200, 151, 200]\n",
      "tSNE complete\n"
     ]
    }
   ],
   "source": [
    "original_avg_2d = KRG.norm_and_reduce(keyword_reps,s_PRINT_DEBUG)\n",
    "debiased_avg_2d = KRG.norm_and_reduce(debiased_keyword_reps,s_PRINT_DEBUG)\n",
    "with open('./result/keyword2d.pkl', 'wb') as f:\n",
    "    pickle.dump((original_avg_2d,debiased_avg_2d),f)"
   ]
  },
  {
   "cell_type": "markdown",
   "metadata": {},
   "source": [
    " # Visualize"
   ]
  },
  {
   "cell_type": "code",
   "execution_count": 17,
   "metadata": {},
   "outputs": [
    {
     "data": {
      "image/png": "[encoded data removed]",
      "text/plain": [
       "<Figure size 1400x1400 with 2 Axes>"
      ]
     },
     "metadata": {},
     "output_type": "display_data"
    }
   ],
   "source": [
    "Visualize(s_FONTPATH, s_FONTSIZE, original_avg_2d, debiased_avg_2d)"
   ]
  }
 ],
 "metadata": {
  "kernelspec": {
   "display_name": "Python 3",
   "language": "python",
   "name": "python3"
  },
  "language_info": {
   "codemirror_mode": {
    "name": "ipython",
    "version": 3
   },
   "file_extension": ".py",
   "mimetype": "text/x-python",
   "name": "python",
   "nbconvert_exporter": "python",
   "pygments_lexer": "ipython3",
   "version": "3.9.6"
  }
 },
 "nbformat": 4,
 "nbformat_minor": 4
}
